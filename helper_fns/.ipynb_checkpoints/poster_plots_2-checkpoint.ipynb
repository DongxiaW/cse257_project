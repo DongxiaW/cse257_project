{
 "cells": [
  {
   "cell_type": "markdown",
   "metadata": {
    "collapsed": true,
    "pycharm": {
     "name": "#%% md\n"
    }
   },
   "source": [
    "This notebook plots some additional plots for the poster.\n",
    "\n",
    "Let's start by plotting VaR and CVaR of a simple distribution."
   ]
  },
  {
   "cell_type": "code",
   "execution_count": 18,
   "metadata": {
    "pycharm": {
     "name": "#%%\n"
    }
   },
   "outputs": [
    {
     "name": "stdout",
     "output_type": "stream",
     "text": [
      "Using matplotlib backend: TkAgg\n"
     ]
    }
   ],
   "source": [
    "import numpy as np\n",
    "from scipy.stats import gamma\n",
    "%matplotlib\n",
    "import matplotlib.pyplot as plt\n",
    "\n",
    "alpha = 0.7\n",
    "\n",
    "test_X = np.linspace(0, 5, 1001).reshape(-1)\n",
    "rv = gamma(a=2., scale=0.5)\n",
    "pdf = rv.pdf(test_X)\n",
    "\n",
    "plt.plot(test_X, pdf, label=\"probability density\")\n",
    "plt.grid(True)\n",
    "\n",
    "scaled_pdf = pdf / np.sum(pdf)\n",
    "\n",
    "var_index = 0\n",
    "sum = 0.\n",
    "while True:\n",
    "    if sum > alpha:\n",
    "        break\n",
    "    sum += scaled_pdf[var_index]\n",
    "    var_index += 1\n",
    "\n",
    "var_X = test_X[var_index]\n",
    "\n",
    "cvar_weights = pdf[var_index:] / np.sum(pdf[var_index:])\n",
    "cvar = np.sum(test_X[var_index:] * cvar_weights)\n",
    "\n",
    "\n",
    "plt.fill_between(test_X[var_index:], 0, pdf[var_index:], color=\"pink\", alpha=0.5)\n",
    "plt.axvline(var_X, label=\"Value-at-Risk\", color=\"tab:green\", lw=3.)\n",
    "plt.axvline(cvar, label=\"Conditional Value-at-Risk\", color=\"tab:orange\", lw=3.)\n",
    "plt.title(f\"VaR and CVaR at risk level $\\\\alpha={alpha}$\")\n",
    "plt.legend()\n",
    "plt.ylim(0., 0.75)\n",
    "\n",
    "plt.savefig(\"gamma_var_cvar.pdf\", dpi=300)"
   ]
  },
  {
   "cell_type": "markdown",
   "metadata": {
    "pycharm": {
     "name": "#%% md\n"
    }
   },
   "source": [
    "Let's plot the VaR and CVaR of a GP sample path."
   ]
  },
  {
   "cell_type": "code",
   "execution_count": 63,
   "metadata": {
    "pycharm": {
     "name": "#%%\n"
    }
   },
   "outputs": [
    {
     "name": "stderr",
     "output_type": "stream",
     "text": [
      "/Users/saitcakmak/.conda/envs/BoRisk/lib/python3.7/site-packages/botorch/models/utils.py:189: InputDataWarning: Input data is not standardized. Please consider scaling the input to zero mean and unit variance.\n",
      "  warnings.warn(msg, InputDataWarning)\n"
     ]
    }
   ],
   "source": [
    "import torch\n",
    "from botorch.models import SingleTaskGP\n",
    "from gpytorch.mlls import ExactMarginalLogLikelihood\n",
    "from botorch.fit import fit_gpytorch_model\n",
    "\n",
    "num_train = 20\n",
    "dim = 1\n",
    "model = SingleTaskGP(torch.rand(num_train, dim), torch.randn(num_train, 1))\n",
    "mll = ExactMarginalLogLikelihood(model.likelihood, model)\n",
    "_ = fit_gpytorch_model(mll)\n",
    "\n",
    "num_test = 1001\n",
    "test_X = torch.linspace(0, 1, num_test).reshape(-1, 1)\n",
    "with torch.no_grad():\n",
    "    pm = model.posterior(test_X).mean\n",
    "\n",
    "plt.close()\n",
    "plt.plot(test_X, pm, label=\"GP sample\")\n",
    "\n",
    "ordered_pm, _ = torch.sort(pm, dim=0)\n",
    "var = ordered_pm[int(alpha * num_test)]\n",
    "cvar = ordered_pm[int(alpha * num_test):].mean()\n",
    "\n",
    "plt.axhline(var, label=\"Value-at-Risk\", color=\"tab:green\", lw=3.)\n",
    "plt.axhline(cvar, label=\"Conditional Value-at-Risk\", color=\"tab:orange\", lw=3.)\n",
    "\n",
    "# plt.fill_between(test_X[pm >= var], var, pm[pm >= var], color=\"pink\", alpha=0.5)\n",
    "min_x = None\n",
    "max_len = test_X[pm >= var].shape[0]\n",
    "standard_dist = 1.1/(num_test-1) # has some tolerance just in case\n",
    "for i, x in enumerate(test_X[pm >= var]):\n",
    "    if min_x is None:\n",
    "        min_x = x\n",
    "    if i+1 == max_len or test_X[pm >= var][i+1] - x > standard_dist:\n",
    "        plt.axvspan(min_x, x, color=\"pink\", alpha=0.5)\n",
    "        min_x = None\n",
    "\n",
    "plt.title(f\"VaR and CVaR of a GP sample at $\\\\alpha={alpha}$\")\n",
    "plt.grid(True)\n",
    "plt.legend()\n",
    "\n",
    "plt.savefig(\"gp_var_cvar.pdf\", dpi=300)"
   ]
  }
 ],
 "metadata": {
  "kernelspec": {
   "display_name": "Python 3",
   "language": "python",
   "name": "python3"
  },
  "language_info": {
   "codemirror_mode": {
    "name": "ipython",
    "version": 3
   },
   "file_extension": ".py",
   "mimetype": "text/x-python",
   "name": "python",
   "nbconvert_exporter": "python",
   "pygments_lexer": "ipython3",
   "version": "3.7.3"
  }
 },
 "nbformat": 4,
 "nbformat_minor": 1
}
